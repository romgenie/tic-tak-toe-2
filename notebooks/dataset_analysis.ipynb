{
 "cells": [
  {
   "cell_type": "markdown",
   "id": "033dad37",
   "metadata": {},
   "source": [
    "# Dataset Analysis\n",
    "Explore q-values distribution, policy entropies, and orbit sizes."
   ]
  },
  {
   "cell_type": "code",
   "execution_count": null,
   "id": "33c2b086",
   "metadata": {},
   "outputs": [],
   "source": [
    "import pandas as pd\n",
    "from pathlib import Path\n",
    "from tictactoe.datasets import run_export, ExportArgs\n",
    "out = Path('data_raw_nb')\n",
    "run_export(ExportArgs(out=out, canonical_only=True, include_augmentation=False, epsilons=[0.1]))\n",
    "b = pd.read_csv(out/'ttt_states.csv')\n",
    "sa = pd.read_csv(out/'ttt_state_actions.csv')\n",
    "b[['optimal_policy_entropy','policy_soft_dtt_entropy','policy_soft_q_entropy']].describe()"
   ]
  }
 ],
 "metadata": {
  "language_info": {
   "name": "python"
  }
 },
 "nbformat": 4,
 "nbformat_minor": 5
}
