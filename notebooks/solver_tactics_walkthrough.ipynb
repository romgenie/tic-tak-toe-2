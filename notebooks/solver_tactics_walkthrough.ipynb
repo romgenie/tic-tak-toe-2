{
 "cells": [
  {
   "cell_type": "markdown",
   "id": "996466d1",
   "metadata": {},
   "source": [
    "# Solver & Tactics Walkthrough\n",
    "This notebook demonstrates the exact solver, symmetry, and basic tactics for Tic-tac-toe."
   ]
  },
  {
   "cell_type": "code",
   "execution_count": null,
   "id": "ac8a5a4f",
   "metadata": {},
   "outputs": [],
   "source": [
    "from tictactoe.solver import solve_state\n",
    "from tictactoe.symmetry import symmetry_info\n",
    "from tictactoe.tactics import immediate_winning_moves, fork_moves\n",
    "board = [1,0,0,0,2,0,0,0,0]\n",
    "res = solve_state(tuple(board))\n",
    "res, symmetry_info(board), immediate_winning_moves(board, 1), fork_moves(board, 1)"
   ]
  }
 ],
 "metadata": {
  "language_info": {
   "name": "python"
  }
 },
 "nbformat": 4,
 "nbformat_minor": 5
}
